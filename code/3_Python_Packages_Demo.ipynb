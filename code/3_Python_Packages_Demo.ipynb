{
  "nbformat": 4,
  "nbformat_minor": 0,
  "metadata": {
    "colab": {
      "name": "3_Python_Packages_Demo.ipynb",
      "provenance": [],
      "authorship_tag": "ABX9TyPIrOHF8p2H0y/yna8pBnLr",
      "include_colab_link": true
    },
    "kernelspec": {
      "name": "python3",
      "display_name": "Python 3"
    }
  },
  "cells": [
    {
      "cell_type": "markdown",
      "metadata": {
        "id": "view-in-github",
        "colab_type": "text"
      },
      "source": [
        "<a href=\"https://colab.research.google.com/github/ashfarhangi/AI-for-Trading/blob/master/code/3_Python_Packages_Demo.ipynb\" target=\"_parent\"><img src=\"https://colab.research.google.com/assets/colab-badge.svg\" alt=\"Open In Colab\"/></a>"
      ]
    },
    {
      "cell_type": "markdown",
      "metadata": {
        "id": "VNXw4bnXpCMY",
        "colab_type": "text"
      },
      "source": [
        "# NN fundamentals"
      ]
    },
    {
      "cell_type": "markdown",
      "metadata": {
        "id": "b3ULO133pMYS",
        "colab_type": "text"
      },
      "source": [
        "# Basics of NN with Tensorflow\n",
        "\n"
      ]
    },
    {
      "cell_type": "markdown",
      "metadata": {
        "id": "-Buct4eae5-x",
        "colab_type": "text"
      },
      "source": [
        "**Scikit-learn**\n",
        "\n",
        "An extremely popular Machine Learning library for python.\n",
        "\n",
        "**Perceptrons**\n",
        "\n",
        "The simplest form of a neural network.\n",
        "\n",
        "**Gradient Descent**\n",
        "\n",
        "A process by which Machine Learning algorithms learn to improve themselves based on the accuracy of their predictions. You'll learn more about this in upcoming lessons.\n",
        "\n",
        "**Backpropagation**\n",
        "\n",
        "The process by which neural networks learn how to improve individual parameters. You'll learn all about this in the upcoming lessons.\n",
        "\n",
        "**Numpy**\n",
        "\n",
        "An extremely popular library for scientific computing in python.\n",
        "\n",
        "**Tensorflow**\n",
        "\n",
        "One of the most popular python libraries for creating neural networks. It is maintained by Google.\n"
      ]
    },
    {
      "cell_type": "code",
      "metadata": {
        "id": "2Pvh0A_ho4Jw",
        "colab_type": "code",
        "colab": {
          "base_uri": "https://localhost:8080/",
          "height": 34
        },
        "outputId": "30b92f9f-ed03-424d-ebd1-3c6da0c9deec"
      },
      "source": [
        "import pandas as pd\n",
        "import matplotlib.pyplot as plt\n",
        "%matplotlib inline\n",
        "%config InlineBackend.figure_format = 'retina'\n",
        "import numpy as np\n",
        "import tensorflow as tf\n",
        "print(\"Tensorflow version: {}\".format(tf.__version__))"
      ],
      "execution_count": null,
      "outputs": [
        {
          "output_type": "stream",
          "text": [
            "Tensorflow version: 2.3.0\n"
          ],
          "name": "stdout"
        }
      ]
    },
    {
      "cell_type": "code",
      "metadata": {
        "id": "ebgUWpf7pLN7",
        "colab_type": "code",
        "colab": {
          "base_uri": "https://localhost:8080/",
          "height": 282
        },
        "outputId": "c9132d7e-2170-4676-9f29-abb681001478"
      },
      "source": [
        "plt.plot([1,2,3,4])"
      ],
      "execution_count": null,
      "outputs": [
        {
          "output_type": "execute_result",
          "data": {
            "text/plain": [
              "[<matplotlib.lines.Line2D at 0x7ff9985a8358>]"
            ]
          },
          "metadata": {
            "tags": []
          },
          "execution_count": 6
        },
        {
          "output_type": "display_data",
          "data": {
            "image/png": "[encoded data removed]",
            "text/plain": [
              "<Figure size 432x288 with 1 Axes>"
            ]
          },
          "metadata": {
            "tags": [],
            "image/png": {
              "width": 372,
              "height": 248
            },
            "needs_background": "light"
          }
        }
      ]
    },
    {
      "cell_type": "code",
      "metadata": {
        "id": "VlQ8xmIclIlD",
        "colab_type": "code",
        "colab": {}
      },
      "source": [
        "%pdb off"
      ],
      "execution_count": null,
      "outputs": []
    },
    {
      "cell_type": "markdown",
      "metadata": {
        "id": "_Ch76YfUmJcV",
        "colab_type": "text"
      },
      "source": [
        "List of packages"
      ]
    },
    {
      "cell_type": "code",
      "metadata": {
        "id": "yM_uY_dkmK2g",
        "colab_type": "code",
        "colab": {
          "base_uri": "https://localhost:8080/",
          "height": 102
        },
        "outputId": "4179cd14-0fbb-495e-c160-a3900a4656f5"
      },
      "source": [
        "!pip list -v | grep pandas"
      ],
      "execution_count": 1,
      "outputs": [
        {
          "output_type": "stream",
          "text": [
            "pandas                        1.0.5           /usr/local/lib/python3.6/dist-packages pip      \n",
            "pandas-datareader             0.8.1           /usr/local/lib/python3.6/dist-packages pip      \n",
            "pandas-gbq                    0.11.0          /usr/local/lib/python3.6/dist-packages pip      \n",
            "pandas-profiling              1.4.1           /usr/local/lib/python3.6/dist-packages pip      \n",
            "sklearn-pandas                1.8.0           /usr/local/lib/python3.6/dist-packages pip      \n"
          ],
          "name": "stdout"
        }
      ]
    },
    {
      "cell_type": "code",
      "metadata": {
        "id": "x_UHk09ZmLLp",
        "colab_type": "code",
        "colab": {}
      },
      "source": [
        "!pip list -v"
      ],
      "execution_count": null,
      "outputs": []
    }
  ]
}