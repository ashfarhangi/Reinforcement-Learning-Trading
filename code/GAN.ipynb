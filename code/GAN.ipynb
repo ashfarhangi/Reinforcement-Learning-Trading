{
  "nbformat": 4,
  "nbformat_minor": 0,
  "metadata": {
    "colab": {
      "name": "homework_05.ipynb",
      "provenance": [],
      "collapsed_sections": [],
      "include_colab_link": true
    },
    "coursera": {
      "course_slug": "neural-networks-deep-learning",
      "graded_item_id": "XaIWT",
      "launcher_item_id": "zAgPl"
    },
    "kernelspec": {
      "display_name": "Python 3",
      "language": "python",
      "name": "python3"
    },
    "language_info": {
      "codemirror_mode": {
        "name": "ipython",
        "version": 3
      },
      "file_extension": ".py",
      "mimetype": "text/x-python",
      "name": "python",
      "nbconvert_exporter": "python",
      "pygments_lexer": "ipython3",
      "version": "3.8.3"
    },
    "accelerator": "GPU"
  },
  "cells": [
    {
      "cell_type": "markdown",
      "metadata": {
        "id": "view-in-github",
        "colab_type": "text"
      },
      "source": [
        "<a href=\"https://colab.research.google.com/github/ashfarhangi/AI-for-Trading/blob/master/GAN.ipynb\" target=\"_parent\"><img src=\"https://colab.research.google.com/assets/colab-badge.svg\" alt=\"Open In Colab\"/></a>"
      ]
    },
    {
      "cell_type": "markdown",
      "metadata": {
        "id": "1LwvvMtG18SK"
      },
      "source": [
        "# Generative Adversarial Network Homework\n",
        "\n",
        "This is the 5th assignment for CAP 4630 and we will implement the basic GAN with Keras and TensorFlow. \\\n",
        "You will use **\"Tasks\"** and **\"Hints\"** to finish the work. **(Total 100 points, including 15 bonus points)** \\\n",
        "You are **not** allowed to use Machine Learning libaries such as Scikit-learn.\n",
        "\n",
        "**Task Overview:**\n",
        "- Implement the GAN task with Keras"
      ]
    },
    {
      "cell_type": "markdown",
      "metadata": {
        "id": "l24oSrIK18SL"
      },
      "source": [
        "## 1 - Implement Generative Adversarial Network with Keras##\n",
        "### 1.1 Prepare the data\n",
        "\n",
        "\n",
        "**Tasks:**\n",
        "1. Load the MNIST dataset and **print out the shape** of it **(5 Points)**\n",
        "2. **Normalize the data** therefore every pixel value should be between 0 and 1. **(5 Points)**\n",
        "3. **Define a load_real_batch function** which generates a random batch of real images and labels for the training. **(5 Points)**\n",
        "\n",
        "\n",
        "**Hints:**  \n",
        "1. Shape of Train data:(60000, 28, 28, 1)\n",
        "2. The label of the real image should be 1.\n",
        "3. The dimension of a batch of real images and labels (of batch size = 10) should be (10, 28, 28, 1) and\n",
        "(10, 1).\n"
      ]
    },
    {
      "cell_type": "code",
      "metadata": {
        "id": "LuGKTWz_p3V0",
        "outputId": "f370de0f-5f35-4b21-9a0c-7678abdc9be0",
        "colab": {
          "base_uri": "https://localhost:8080/",
          "height": 1000
        }
      },
      "source": [
        "# 1. loading the mnist dataset and normalize it here\n",
        "from numpy import expand_dims\n",
        "from numpy import zeros\n",
        "from numpy import ones\n",
        "from numpy import vstack\n",
        "from numpy.random import randn\n",
        "from numpy.random import randint\n",
        "from keras.datasets.mnist import load_data\n",
        "from keras.optimizers import Adam\n",
        "from keras.models import Sequential\n",
        "from keras.layers import Dense\n",
        "from keras.layers import Reshape\n",
        "from keras.layers import Flatten\n",
        "from keras.layers import Conv2D\n",
        "from keras.layers import Conv2DTranspose\n",
        "from keras.layers import LeakyReLU\n",
        "from keras.layers import Dropout\n",
        "from matplotlib import pyplot\n",
        "from keras.models import load_model\n",
        "from numpy.random import randn\n",
        "from matplotlib import pyplot\n",
        "import matplotlib.pyplot as plt\n",
        "\n",
        "### Set random seed to ensure deterministic results\n",
        "import tensorflow as tf\n",
        "import tensorflow.keras as keras\n",
        "import tensorflow.keras.layers \n",
        "import random\n",
        "import numpy as np\n",
        "import os\n",
        "seed_value = 1\n",
        "os.environ['PYTHONHASHSEED']=str(seed_value)\n",
        "def reset_random_seeds():\n",
        "   tf.random.set_seed(seed_value)\n",
        "   np.random.seed(seed_value)\n",
        "   random.seed(seed_value)\n",
        "reset_random_seeds()\n",
        "\n",
        "#### Refer to the example in Homework 3\n",
        "#### 1.Load MNIST data; \n",
        "#### 2. Reshape them by expanding to 3d; \n",
        "#### 3. Define the type to float32\n",
        "#### 4. Scale them to [0,1]; \n",
        "\n",
        "from keras.datasets.mnist import load_data\n",
        "### load the images into memory\n",
        "### You may fill the blanks of dots ###\n",
        "\n",
        "\n",
        "\n",
        "from keras.datasets import mnist\n",
        "(train_image, train_label) ,(test_image, test_label) = mnist.load_data()\n",
        "\n",
        "\n",
        "for j in range(10):\n",
        "  plt.imshow(mnist.load_data()[0][0][j],cmap='gray')\n",
        "  plt.title(mnist.load_data()[0][1][j])\n",
        "  plt.show()\n",
        "# def load_real_samples():\n",
        "# \t## load mnist dataset\n",
        "# \t(trainX, _), (_, _) = load_data() # only load trainX for real samples and other parameters are set to dummy variable\n",
        "# \t## expand trainX to 3d, e.g. add channels dimension\n",
        "# \tX = expand_dims(..., axis=-1) \n",
        "# \t## convert X from unsigned ints to float32\n",
        "# \tX = X.astype(...)\n",
        "# \t## scale X from [0,255] to [0,1]\n",
        "# \tX = X / ...\n",
        "# \treturn X\n",
        "\n",
        "\n",
        "# dataset = load_real_samples() # load real samples\n",
        "# print('dataset', dataset.shape) # print out the shape of dataset\n",
        "\n"
      ],
      "execution_count": 13,
      "outputs": [
        {
          "output_type": "display_data",
          "data": {
            "image/png": "[encoded data removed]",
            "text/plain": [
              "<Figure size 432x288 with 1 Axes>"
            ]
          },
          "metadata": {
            "tags": [],
            "needs_background": "light"
          }
        },
        {
          "output_type": "display_data",
          "data": {
            "image/png": "[encoded data removed]",
            "text/plain": [
              "<Figure size 432x288 with 1 Axes>"
            ]
          },
          "metadata": {
            "tags": [],
            "needs_background": "light"
          }
        },
        {
          "output_type": "display_data",
          "data": {
            "image/png": "[encoded data removed]",
            "text/plain": [
              "<Figure size 432x288 with 1 Axes>"
            ]
          },
          "metadata": {
            "tags": [],
            "needs_background": "light"
          }
        },
        {
          "output_type": "display_data",
          "data": {
            "image/png": "[encoded data removed]",
            "text/plain": [
              "<Figure size 432x288 with 1 Axes>"
            ]
          },
          "metadata": {
            "tags": [],
            "needs_background": "light"
          }
        },
        {
          "output_type": "display_data",
          "data": {
            "image/png": "[encoded data removed]",
            "text/plain": [
              "<Figure size 432x288 with 1 Axes>"
            ]
          },
          "metadata": {
            "tags": [],
            "needs_background": "light"
          }
        },
        {
          "output_type": "display_data",
          "data": {
            "image/png": "[encoded data removed]",
            "text/plain": [
              "<Figure size 432x288 with 1 Axes>"
            ]
          },
          "metadata": {
            "tags": [],
            "needs_background": "light"
          }
        },
        {
          "output_type": "display_data",
          "data": {
            "image/png": "[encoded data removed]",
            "text/plain": [
              "<Figure size 432x288 with 1 Axes>"
            ]
          },
          "metadata": {
            "tags": [],
            "needs_background": "light"
          }
        },
        {
          "output_type": "display_data",
          "data": {
            "image/png": "[encoded data removed]",
            "text/plain": [
              "<Figure size 432x288 with 1 Axes>"
            ]
          },
          "metadata": {
            "tags": [],
            "needs_background": "light"
          }
        },
        {
          "output_type": "display_data",
          "data": {
            "image/png": "[encoded data removed]",
            "text/plain": [
              "<Figure size 432x288 with 1 Axes>"
            ]
          },
          "metadata": {
            "tags": [],
            "needs_background": "light"
          }
        },
        {
          "output_type": "display_data",
          "data": {
            "image/png": "[encoded data removed]",
            "text/plain": [
              "<Figure size 432x288 with 1 Axes>"
            ]
          },
          "metadata": {
            "tags": [],
            "needs_background": "light"
          }
        }
      ]
    },
    {
      "cell_type": "code",
      "metadata": {
        "id": "vrl7TdmVlnoX"
      },
      "source": [
        "### 2. define load_real_batch() here\n",
        "### You may fill the blanks of dots ###\n",
        "\n",
        "# def generate_real_samples(dataset, n_samples):\n",
        "# \tix = randint(..., ..., ...)\t# choose random instances with randit(start=0, end=num of data, sample=n_samples)\n",
        "# \tX = dataset[...] \t# retrieve selected images from indices of ix\n",
        "# \ty = ones((n_samples, 1)) # generate 'real' class labels (1), i.e., real image is labeled by 1. \n",
        "# \treturn X, y\n",
        "\n",
        "# sampleX,sampleY = generate_real_samples(dataset, 10) ### test the function with defined MNIST data and 10 samples\n",
        "# print(sampleX.shape) ### print shape X\n",
        "# print(sampleY.shape) ### print shape Y"
      ],
      "execution_count": 2,
      "outputs": []
    },
    {
      "cell_type": "code",
      "metadata": {
        "id": "gx0stYZ4yRHM",
        "outputId": "a8fb97a4-699c-41e1-83f8-f588ba5f24a8",
        "colab": {
          "base_uri": "https://localhost:8080/"
        }
      },
      "source": [
        "from keras.utils import to_categorical\r\n",
        "X_train = train_image.reshape(60000,784)\r\n",
        "X_test = test_image.reshape(10000,784)\r\n",
        "\r\n",
        "y_train =to_categorical(train_label)\r\n",
        "y_test =to_categorical(test_label)\r\n",
        "X_train.shape"
      ],
      "execution_count": 14,
      "outputs": [
        {
          "output_type": "execute_result",
          "data": {
            "text/plain": [
              "(60000, 784)"
            ]
          },
          "metadata": {
            "tags": []
          },
          "execution_count": 14
        }
      ]
    },
    {
      "cell_type": "markdown",
      "metadata": {
        "id": "0AlakqA_vuFb"
      },
      "source": [
        "### 1.2 - Build the Generative Adversarial Network (GAN) Model ##\n",
        "\n",
        "\n",
        "Build the Generative Adversarial Network (GAN) with generator and discriminator. \n",
        "\n",
        "**Tasks:**\n",
        "1. Build the generator.  **(10 Points)**\n",
        "2. Build the discriminator.  **(10 Points)**\n",
        "\n",
        "**Hints:**  \n",
        "1. The shape of the generator should be: \n",
        "![image.png](attachment:image.png)\n",
        "2. **The input shape of the generator should be: 100**"
      ]
    },
    {
      "cell_type": "markdown",
      "metadata": {
        "id": "19BmdbffuQy4"
      },
      "source": [
        "3. The shape of the discriminator should be: \n",
        "![image.png](attachment:image.png)\n",
        "4. The output shape of the generator should be the input shape of the discriminator. Both of them should also be the size of the MNIST data (28 * 28 * 1)."
      ]
    },
    {
      "cell_type": "code",
      "metadata": {
        "id": "venjzt85yTnN",
        "outputId": "53d33ec7-487b-4128-c26a-ed39cd967f88",
        "colab": {
          "base_uri": "https://localhost:8080/",
          "height": 569
        }
      },
      "source": [
        "from keras import layers, models\r\n",
        "#input = 28*28 = 784 * 100 = 78400 + 100\r\n",
        "Numbery = models.Sequential()\r\n",
        "Numbery.add(layers.Dense(128,activation='sigmoid'))\r\n",
        "Numbery.add(layers.Dense(10,activation='sigmoid'))\r\n",
        "Numbery.compile(optimizer='sgd',loss='mse',metrics=['accuracy'])\r\n",
        "Numbery.fit(X_train,y_train,epochs=20,batch_size=16)\r\n",
        "\r\n",
        "Numbery.summary()\r\n"
      ],
      "execution_count": 15,
      "outputs": [
        {
          "output_type": "stream",
          "text": [
            "Epoch 1/20\n",
            "3750/3750 [==============================] - 7s 2ms/step - loss: 0.0744 - accuracy: 0.5069\n",
            "Epoch 2/20\n",
            "3750/3750 [==============================] - 7s 2ms/step - loss: 0.0491 - accuracy: 0.7655\n",
            "Epoch 3/20\n",
            "3750/3750 [==============================] - 7s 2ms/step - loss: 0.0389 - accuracy: 0.8286\n",
            "Epoch 4/20\n",
            "3750/3750 [==============================] - 8s 2ms/step - loss: 0.0330 - accuracy: 0.8571\n",
            "Epoch 5/20\n",
            "3750/3750 [==============================] - 8s 2ms/step - loss: 0.0292 - accuracy: 0.8721\n",
            "Epoch 6/20\n",
            "3520/3750 [===========================>..] - ETA: 0s - loss: 0.0264 - accuracy: 0.8829"
          ],
          "name": "stdout"
        },
        {
          "output_type": "error",
          "ename": "KeyboardInterrupt",
          "evalue": "ignored",
          "traceback": [
            "\u001b[0;31m---------------------------------------------------------------------------\u001b[0m",
            "\u001b[0;31mKeyboardInterrupt\u001b[0m                         Traceback (most recent call last)",
            "\u001b[0;32m<ipython-input-15-532d4a9fe2fe>\u001b[0m in \u001b[0;36m<module>\u001b[0;34m()\u001b[0m\n\u001b[1;32m      5\u001b[0m \u001b[0mNumbery\u001b[0m\u001b[0;34m.\u001b[0m\u001b[0madd\u001b[0m\u001b[0;34m(\u001b[0m\u001b[0mlayers\u001b[0m\u001b[0;34m.\u001b[0m\u001b[0mDense\u001b[0m\u001b[0;34m(\u001b[0m\u001b[0;36m10\u001b[0m\u001b[0;34m,\u001b[0m\u001b[0mactivation\u001b[0m\u001b[0;34m=\u001b[0m\u001b[0;34m'sigmoid'\u001b[0m\u001b[0;34m)\u001b[0m\u001b[0;34m)\u001b[0m\u001b[0;34m\u001b[0m\u001b[0;34m\u001b[0m\u001b[0m\n\u001b[1;32m      6\u001b[0m \u001b[0mNumbery\u001b[0m\u001b[0;34m.\u001b[0m\u001b[0mcompile\u001b[0m\u001b[0;34m(\u001b[0m\u001b[0moptimizer\u001b[0m\u001b[0;34m=\u001b[0m\u001b[0;34m'sgd'\u001b[0m\u001b[0;34m,\u001b[0m\u001b[0mloss\u001b[0m\u001b[0;34m=\u001b[0m\u001b[0;34m'mse'\u001b[0m\u001b[0;34m,\u001b[0m\u001b[0mmetrics\u001b[0m\u001b[0;34m=\u001b[0m\u001b[0;34m[\u001b[0m\u001b[0;34m'accuracy'\u001b[0m\u001b[0;34m]\u001b[0m\u001b[0;34m)\u001b[0m\u001b[0;34m\u001b[0m\u001b[0;34m\u001b[0m\u001b[0m\n\u001b[0;32m----> 7\u001b[0;31m \u001b[0mNumbery\u001b[0m\u001b[0;34m.\u001b[0m\u001b[0mfit\u001b[0m\u001b[0;34m(\u001b[0m\u001b[0mX_train\u001b[0m\u001b[0;34m,\u001b[0m\u001b[0my_train\u001b[0m\u001b[0;34m,\u001b[0m\u001b[0mepochs\u001b[0m\u001b[0;34m=\u001b[0m\u001b[0;36m20\u001b[0m\u001b[0;34m,\u001b[0m\u001b[0mbatch_size\u001b[0m\u001b[0;34m=\u001b[0m\u001b[0;36m16\u001b[0m\u001b[0;34m)\u001b[0m\u001b[0;34m\u001b[0m\u001b[0;34m\u001b[0m\u001b[0m\n\u001b[0m\u001b[1;32m      8\u001b[0m \u001b[0;34m\u001b[0m\u001b[0m\n\u001b[1;32m      9\u001b[0m \u001b[0mNumbery\u001b[0m\u001b[0;34m.\u001b[0m\u001b[0msummary\u001b[0m\u001b[0;34m(\u001b[0m\u001b[0;34m)\u001b[0m\u001b[0;34m\u001b[0m\u001b[0;34m\u001b[0m\u001b[0m\n",
            "\u001b[0;32m/usr/local/lib/python3.6/dist-packages/tensorflow/python/keras/engine/training.py\u001b[0m in \u001b[0;36m_method_wrapper\u001b[0;34m(self, *args, **kwargs)\u001b[0m\n\u001b[1;32m    106\u001b[0m   \u001b[0;32mdef\u001b[0m \u001b[0m_method_wrapper\u001b[0m\u001b[0;34m(\u001b[0m\u001b[0mself\u001b[0m\u001b[0;34m,\u001b[0m \u001b[0;34m*\u001b[0m\u001b[0margs\u001b[0m\u001b[0;34m,\u001b[0m \u001b[0;34m**\u001b[0m\u001b[0mkwargs\u001b[0m\u001b[0;34m)\u001b[0m\u001b[0;34m:\u001b[0m\u001b[0;34m\u001b[0m\u001b[0;34m\u001b[0m\u001b[0m\n\u001b[1;32m    107\u001b[0m     \u001b[0;32mif\u001b[0m \u001b[0;32mnot\u001b[0m \u001b[0mself\u001b[0m\u001b[0;34m.\u001b[0m\u001b[0m_in_multi_worker_mode\u001b[0m\u001b[0;34m(\u001b[0m\u001b[0;34m)\u001b[0m\u001b[0;34m:\u001b[0m  \u001b[0;31m# pylint: disable=protected-access\u001b[0m\u001b[0;34m\u001b[0m\u001b[0;34m\u001b[0m\u001b[0m\n\u001b[0;32m--> 108\u001b[0;31m       \u001b[0;32mreturn\u001b[0m \u001b[0mmethod\u001b[0m\u001b[0;34m(\u001b[0m\u001b[0mself\u001b[0m\u001b[0;34m,\u001b[0m \u001b[0;34m*\u001b[0m\u001b[0margs\u001b[0m\u001b[0;34m,\u001b[0m \u001b[0;34m**\u001b[0m\u001b[0mkwargs\u001b[0m\u001b[0;34m)\u001b[0m\u001b[0;34m\u001b[0m\u001b[0;34m\u001b[0m\u001b[0m\n\u001b[0m\u001b[1;32m    109\u001b[0m \u001b[0;34m\u001b[0m\u001b[0m\n\u001b[1;32m    110\u001b[0m     \u001b[0;31m# Running inside `run_distribute_coordinator` already.\u001b[0m\u001b[0;34m\u001b[0m\u001b[0;34m\u001b[0m\u001b[0;34m\u001b[0m\u001b[0m\n",
            "\u001b[0;32m/usr/local/lib/python3.6/dist-packages/tensorflow/python/keras/engine/training.py\u001b[0m in \u001b[0;36mfit\u001b[0;34m(self, x, y, batch_size, epochs, verbose, callbacks, validation_split, validation_data, shuffle, class_weight, sample_weight, initial_epoch, steps_per_epoch, validation_steps, validation_batch_size, validation_freq, max_queue_size, workers, use_multiprocessing)\u001b[0m\n\u001b[1;32m   1101\u001b[0m               \u001b[0mlogs\u001b[0m \u001b[0;34m=\u001b[0m \u001b[0mtmp_logs\u001b[0m  \u001b[0;31m# No error, now safe to assign to logs.\u001b[0m\u001b[0;34m\u001b[0m\u001b[0;34m\u001b[0m\u001b[0m\n\u001b[1;32m   1102\u001b[0m               \u001b[0mend_step\u001b[0m \u001b[0;34m=\u001b[0m \u001b[0mstep\u001b[0m \u001b[0;34m+\u001b[0m \u001b[0mdata_handler\u001b[0m\u001b[0;34m.\u001b[0m\u001b[0mstep_increment\u001b[0m\u001b[0;34m\u001b[0m\u001b[0;34m\u001b[0m\u001b[0m\n\u001b[0;32m-> 1103\u001b[0;31m               \u001b[0mcallbacks\u001b[0m\u001b[0;34m.\u001b[0m\u001b[0mon_train_batch_end\u001b[0m\u001b[0;34m(\u001b[0m\u001b[0mend_step\u001b[0m\u001b[0;34m,\u001b[0m \u001b[0mlogs\u001b[0m\u001b[0;34m)\u001b[0m\u001b[0;34m\u001b[0m\u001b[0;34m\u001b[0m\u001b[0m\n\u001b[0m\u001b[1;32m   1104\u001b[0m         \u001b[0mepoch_logs\u001b[0m \u001b[0;34m=\u001b[0m \u001b[0mcopy\u001b[0m\u001b[0;34m.\u001b[0m\u001b[0mcopy\u001b[0m\u001b[0;34m(\u001b[0m\u001b[0mlogs\u001b[0m\u001b[0;34m)\u001b[0m\u001b[0;34m\u001b[0m\u001b[0;34m\u001b[0m\u001b[0m\n\u001b[1;32m   1105\u001b[0m \u001b[0;34m\u001b[0m\u001b[0m\n",
            "\u001b[0;32m/usr/local/lib/python3.6/dist-packages/tensorflow/python/keras/callbacks.py\u001b[0m in \u001b[0;36mon_train_batch_end\u001b[0;34m(self, batch, logs)\u001b[0m\n\u001b[1;32m    438\u001b[0m     \"\"\"\n\u001b[1;32m    439\u001b[0m     \u001b[0;32mif\u001b[0m \u001b[0mself\u001b[0m\u001b[0;34m.\u001b[0m\u001b[0m_should_call_train_batch_hooks\u001b[0m\u001b[0;34m:\u001b[0m\u001b[0;34m\u001b[0m\u001b[0;34m\u001b[0m\u001b[0m\n\u001b[0;32m--> 440\u001b[0;31m       \u001b[0mself\u001b[0m\u001b[0;34m.\u001b[0m\u001b[0m_call_batch_hook\u001b[0m\u001b[0;34m(\u001b[0m\u001b[0mModeKeys\u001b[0m\u001b[0;34m.\u001b[0m\u001b[0mTRAIN\u001b[0m\u001b[0;34m,\u001b[0m \u001b[0;34m'end'\u001b[0m\u001b[0;34m,\u001b[0m \u001b[0mbatch\u001b[0m\u001b[0;34m,\u001b[0m \u001b[0mlogs\u001b[0m\u001b[0;34m=\u001b[0m\u001b[0mlogs\u001b[0m\u001b[0;34m)\u001b[0m\u001b[0;34m\u001b[0m\u001b[0;34m\u001b[0m\u001b[0m\n\u001b[0m\u001b[1;32m    441\u001b[0m \u001b[0;34m\u001b[0m\u001b[0m\n\u001b[1;32m    442\u001b[0m   \u001b[0;32mdef\u001b[0m \u001b[0mon_test_batch_begin\u001b[0m\u001b[0;34m(\u001b[0m\u001b[0mself\u001b[0m\u001b[0;34m,\u001b[0m \u001b[0mbatch\u001b[0m\u001b[0;34m,\u001b[0m \u001b[0mlogs\u001b[0m\u001b[0;34m=\u001b[0m\u001b[0;32mNone\u001b[0m\u001b[0;34m)\u001b[0m\u001b[0;34m:\u001b[0m\u001b[0;34m\u001b[0m\u001b[0;34m\u001b[0m\u001b[0m\n",
            "\u001b[0;32m/usr/local/lib/python3.6/dist-packages/tensorflow/python/keras/callbacks.py\u001b[0m in \u001b[0;36m_call_batch_hook\u001b[0;34m(self, mode, hook, batch, logs)\u001b[0m\n\u001b[1;32m    287\u001b[0m       \u001b[0mself\u001b[0m\u001b[0;34m.\u001b[0m\u001b[0m_call_batch_begin_hook\u001b[0m\u001b[0;34m(\u001b[0m\u001b[0mmode\u001b[0m\u001b[0;34m,\u001b[0m \u001b[0mbatch\u001b[0m\u001b[0;34m,\u001b[0m \u001b[0mlogs\u001b[0m\u001b[0;34m)\u001b[0m\u001b[0;34m\u001b[0m\u001b[0;34m\u001b[0m\u001b[0m\n\u001b[1;32m    288\u001b[0m     \u001b[0;32melif\u001b[0m \u001b[0mhook\u001b[0m \u001b[0;34m==\u001b[0m \u001b[0;34m'end'\u001b[0m\u001b[0;34m:\u001b[0m\u001b[0;34m\u001b[0m\u001b[0;34m\u001b[0m\u001b[0m\n\u001b[0;32m--> 289\u001b[0;31m       \u001b[0mself\u001b[0m\u001b[0;34m.\u001b[0m\u001b[0m_call_batch_end_hook\u001b[0m\u001b[0;34m(\u001b[0m\u001b[0mmode\u001b[0m\u001b[0;34m,\u001b[0m \u001b[0mbatch\u001b[0m\u001b[0;34m,\u001b[0m \u001b[0mlogs\u001b[0m\u001b[0;34m)\u001b[0m\u001b[0;34m\u001b[0m\u001b[0;34m\u001b[0m\u001b[0m\n\u001b[0m\u001b[1;32m    290\u001b[0m     \u001b[0;32melse\u001b[0m\u001b[0;34m:\u001b[0m\u001b[0;34m\u001b[0m\u001b[0;34m\u001b[0m\u001b[0m\n\u001b[1;32m    291\u001b[0m       \u001b[0;32mraise\u001b[0m \u001b[0mValueError\u001b[0m\u001b[0;34m(\u001b[0m\u001b[0;34m'Unrecognized hook: {}'\u001b[0m\u001b[0;34m.\u001b[0m\u001b[0mformat\u001b[0m\u001b[0;34m(\u001b[0m\u001b[0mhook\u001b[0m\u001b[0;34m)\u001b[0m\u001b[0;34m)\u001b[0m\u001b[0;34m\u001b[0m\u001b[0;34m\u001b[0m\u001b[0m\n",
            "\u001b[0;32m/usr/local/lib/python3.6/dist-packages/tensorflow/python/keras/callbacks.py\u001b[0m in \u001b[0;36m_call_batch_end_hook\u001b[0;34m(self, mode, batch, logs)\u001b[0m\n\u001b[1;32m    307\u001b[0m       \u001b[0mbatch_time\u001b[0m \u001b[0;34m=\u001b[0m \u001b[0mtime\u001b[0m\u001b[0;34m.\u001b[0m\u001b[0mtime\u001b[0m\u001b[0;34m(\u001b[0m\u001b[0;34m)\u001b[0m \u001b[0;34m-\u001b[0m \u001b[0mself\u001b[0m\u001b[0;34m.\u001b[0m\u001b[0m_batch_start_time\u001b[0m\u001b[0;34m\u001b[0m\u001b[0;34m\u001b[0m\u001b[0m\n\u001b[1;32m    308\u001b[0m \u001b[0;34m\u001b[0m\u001b[0m\n\u001b[0;32m--> 309\u001b[0;31m     \u001b[0mself\u001b[0m\u001b[0;34m.\u001b[0m\u001b[0m_call_batch_hook_helper\u001b[0m\u001b[0;34m(\u001b[0m\u001b[0mhook_name\u001b[0m\u001b[0;34m,\u001b[0m \u001b[0mbatch\u001b[0m\u001b[0;34m,\u001b[0m \u001b[0mlogs\u001b[0m\u001b[0;34m)\u001b[0m\u001b[0;34m\u001b[0m\u001b[0;34m\u001b[0m\u001b[0m\n\u001b[0m\u001b[1;32m    310\u001b[0m \u001b[0;34m\u001b[0m\u001b[0m\n\u001b[1;32m    311\u001b[0m     \u001b[0;32mif\u001b[0m \u001b[0mself\u001b[0m\u001b[0;34m.\u001b[0m\u001b[0m_check_timing\u001b[0m\u001b[0;34m:\u001b[0m\u001b[0;34m\u001b[0m\u001b[0;34m\u001b[0m\u001b[0m\n",
            "\u001b[0;32m/usr/local/lib/python3.6/dist-packages/tensorflow/python/keras/callbacks.py\u001b[0m in \u001b[0;36m_call_batch_hook_helper\u001b[0;34m(self, hook_name, batch, logs)\u001b[0m\n\u001b[1;32m    340\u001b[0m       \u001b[0mhook\u001b[0m \u001b[0;34m=\u001b[0m \u001b[0mgetattr\u001b[0m\u001b[0;34m(\u001b[0m\u001b[0mcallback\u001b[0m\u001b[0;34m,\u001b[0m \u001b[0mhook_name\u001b[0m\u001b[0;34m)\u001b[0m\u001b[0;34m\u001b[0m\u001b[0;34m\u001b[0m\u001b[0m\n\u001b[1;32m    341\u001b[0m       \u001b[0;32mif\u001b[0m \u001b[0mgetattr\u001b[0m\u001b[0;34m(\u001b[0m\u001b[0mcallback\u001b[0m\u001b[0;34m,\u001b[0m \u001b[0;34m'_supports_tf_logs'\u001b[0m\u001b[0;34m,\u001b[0m \u001b[0;32mFalse\u001b[0m\u001b[0;34m)\u001b[0m\u001b[0;34m:\u001b[0m\u001b[0;34m\u001b[0m\u001b[0;34m\u001b[0m\u001b[0m\n\u001b[0;32m--> 342\u001b[0;31m         \u001b[0mhook\u001b[0m\u001b[0;34m(\u001b[0m\u001b[0mbatch\u001b[0m\u001b[0;34m,\u001b[0m \u001b[0mlogs\u001b[0m\u001b[0;34m)\u001b[0m\u001b[0;34m\u001b[0m\u001b[0;34m\u001b[0m\u001b[0m\n\u001b[0m\u001b[1;32m    343\u001b[0m       \u001b[0;32melse\u001b[0m\u001b[0;34m:\u001b[0m\u001b[0;34m\u001b[0m\u001b[0;34m\u001b[0m\u001b[0m\n\u001b[1;32m    344\u001b[0m         \u001b[0;32mif\u001b[0m \u001b[0mnumpy_logs\u001b[0m \u001b[0;32mis\u001b[0m \u001b[0;32mNone\u001b[0m\u001b[0;34m:\u001b[0m  \u001b[0;31m# Only convert once.\u001b[0m\u001b[0;34m\u001b[0m\u001b[0;34m\u001b[0m\u001b[0m\n",
            "\u001b[0;32m/usr/local/lib/python3.6/dist-packages/tensorflow/python/keras/callbacks.py\u001b[0m in \u001b[0;36mon_train_batch_end\u001b[0;34m(self, batch, logs)\u001b[0m\n\u001b[1;32m    959\u001b[0m \u001b[0;34m\u001b[0m\u001b[0m\n\u001b[1;32m    960\u001b[0m   \u001b[0;32mdef\u001b[0m \u001b[0mon_train_batch_end\u001b[0m\u001b[0;34m(\u001b[0m\u001b[0mself\u001b[0m\u001b[0;34m,\u001b[0m \u001b[0mbatch\u001b[0m\u001b[0;34m,\u001b[0m \u001b[0mlogs\u001b[0m\u001b[0;34m=\u001b[0m\u001b[0;32mNone\u001b[0m\u001b[0;34m)\u001b[0m\u001b[0;34m:\u001b[0m\u001b[0;34m\u001b[0m\u001b[0;34m\u001b[0m\u001b[0m\n\u001b[0;32m--> 961\u001b[0;31m     \u001b[0mself\u001b[0m\u001b[0;34m.\u001b[0m\u001b[0m_batch_update_progbar\u001b[0m\u001b[0;34m(\u001b[0m\u001b[0mbatch\u001b[0m\u001b[0;34m,\u001b[0m \u001b[0mlogs\u001b[0m\u001b[0;34m)\u001b[0m\u001b[0;34m\u001b[0m\u001b[0;34m\u001b[0m\u001b[0m\n\u001b[0m\u001b[1;32m    962\u001b[0m \u001b[0;34m\u001b[0m\u001b[0m\n\u001b[1;32m    963\u001b[0m   \u001b[0;32mdef\u001b[0m \u001b[0mon_test_batch_end\u001b[0m\u001b[0;34m(\u001b[0m\u001b[0mself\u001b[0m\u001b[0;34m,\u001b[0m \u001b[0mbatch\u001b[0m\u001b[0;34m,\u001b[0m \u001b[0mlogs\u001b[0m\u001b[0;34m=\u001b[0m\u001b[0;32mNone\u001b[0m\u001b[0;34m)\u001b[0m\u001b[0;34m:\u001b[0m\u001b[0;34m\u001b[0m\u001b[0;34m\u001b[0m\u001b[0m\n",
            "\u001b[0;32m/usr/local/lib/python3.6/dist-packages/tensorflow/python/keras/callbacks.py\u001b[0m in \u001b[0;36m_batch_update_progbar\u001b[0;34m(self, batch, logs)\u001b[0m\n\u001b[1;32m   1015\u001b[0m       \u001b[0;31m# Only block async when verbose = 1.\u001b[0m\u001b[0;34m\u001b[0m\u001b[0;34m\u001b[0m\u001b[0;34m\u001b[0m\u001b[0m\n\u001b[1;32m   1016\u001b[0m       \u001b[0mlogs\u001b[0m \u001b[0;34m=\u001b[0m \u001b[0mtf_utils\u001b[0m\u001b[0;34m.\u001b[0m\u001b[0mto_numpy_or_python_type\u001b[0m\u001b[0;34m(\u001b[0m\u001b[0mlogs\u001b[0m\u001b[0;34m)\u001b[0m\u001b[0;34m\u001b[0m\u001b[0;34m\u001b[0m\u001b[0m\n\u001b[0;32m-> 1017\u001b[0;31m       \u001b[0mself\u001b[0m\u001b[0;34m.\u001b[0m\u001b[0mprogbar\u001b[0m\u001b[0;34m.\u001b[0m\u001b[0mupdate\u001b[0m\u001b[0;34m(\u001b[0m\u001b[0mself\u001b[0m\u001b[0;34m.\u001b[0m\u001b[0mseen\u001b[0m\u001b[0;34m,\u001b[0m \u001b[0mlist\u001b[0m\u001b[0;34m(\u001b[0m\u001b[0mlogs\u001b[0m\u001b[0;34m.\u001b[0m\u001b[0mitems\u001b[0m\u001b[0;34m(\u001b[0m\u001b[0;34m)\u001b[0m\u001b[0;34m)\u001b[0m\u001b[0;34m,\u001b[0m \u001b[0mfinalize\u001b[0m\u001b[0;34m=\u001b[0m\u001b[0;32mFalse\u001b[0m\u001b[0;34m)\u001b[0m\u001b[0;34m\u001b[0m\u001b[0;34m\u001b[0m\u001b[0m\n\u001b[0m\u001b[1;32m   1018\u001b[0m \u001b[0;34m\u001b[0m\u001b[0m\n\u001b[1;32m   1019\u001b[0m   \u001b[0;32mdef\u001b[0m \u001b[0m_finalize_progbar\u001b[0m\u001b[0;34m(\u001b[0m\u001b[0mself\u001b[0m\u001b[0;34m,\u001b[0m \u001b[0mlogs\u001b[0m\u001b[0;34m)\u001b[0m\u001b[0;34m:\u001b[0m\u001b[0;34m\u001b[0m\u001b[0;34m\u001b[0m\u001b[0m\n",
            "\u001b[0;32m/usr/local/lib/python3.6/dist-packages/tensorflow/python/keras/utils/generic_utils.py\u001b[0m in \u001b[0;36mupdate\u001b[0;34m(self, current, values, finalize)\u001b[0m\n\u001b[1;32m    640\u001b[0m \u001b[0;34m\u001b[0m\u001b[0m\n\u001b[1;32m    641\u001b[0m       \u001b[0msys\u001b[0m\u001b[0;34m.\u001b[0m\u001b[0mstdout\u001b[0m\u001b[0;34m.\u001b[0m\u001b[0mwrite\u001b[0m\u001b[0;34m(\u001b[0m\u001b[0minfo\u001b[0m\u001b[0;34m)\u001b[0m\u001b[0;34m\u001b[0m\u001b[0;34m\u001b[0m\u001b[0m\n\u001b[0;32m--> 642\u001b[0;31m       \u001b[0msys\u001b[0m\u001b[0;34m.\u001b[0m\u001b[0mstdout\u001b[0m\u001b[0;34m.\u001b[0m\u001b[0mflush\u001b[0m\u001b[0;34m(\u001b[0m\u001b[0;34m)\u001b[0m\u001b[0;34m\u001b[0m\u001b[0;34m\u001b[0m\u001b[0m\n\u001b[0m\u001b[1;32m    643\u001b[0m \u001b[0;34m\u001b[0m\u001b[0m\n\u001b[1;32m    644\u001b[0m     \u001b[0;32melif\u001b[0m \u001b[0mself\u001b[0m\u001b[0;34m.\u001b[0m\u001b[0mverbose\u001b[0m \u001b[0;34m==\u001b[0m \u001b[0;36m2\u001b[0m\u001b[0;34m:\u001b[0m\u001b[0;34m\u001b[0m\u001b[0;34m\u001b[0m\u001b[0m\n",
            "\u001b[0;32m/usr/local/lib/python3.6/dist-packages/ipykernel/iostream.py\u001b[0m in \u001b[0;36mflush\u001b[0;34m(self)\u001b[0m\n\u001b[1;32m    347\u001b[0m                 \u001b[0mself\u001b[0m\u001b[0;34m.\u001b[0m\u001b[0mpub_thread\u001b[0m\u001b[0;34m.\u001b[0m\u001b[0mschedule\u001b[0m\u001b[0;34m(\u001b[0m\u001b[0mevt\u001b[0m\u001b[0;34m.\u001b[0m\u001b[0mset\u001b[0m\u001b[0;34m)\u001b[0m\u001b[0;34m\u001b[0m\u001b[0;34m\u001b[0m\u001b[0m\n\u001b[1;32m    348\u001b[0m                 \u001b[0;31m# and give a timeout to avoid\u001b[0m\u001b[0;34m\u001b[0m\u001b[0;34m\u001b[0m\u001b[0;34m\u001b[0m\u001b[0m\n\u001b[0;32m--> 349\u001b[0;31m                 \u001b[0;32mif\u001b[0m \u001b[0;32mnot\u001b[0m \u001b[0mevt\u001b[0m\u001b[0;34m.\u001b[0m\u001b[0mwait\u001b[0m\u001b[0;34m(\u001b[0m\u001b[0mself\u001b[0m\u001b[0;34m.\u001b[0m\u001b[0mflush_timeout\u001b[0m\u001b[0;34m)\u001b[0m\u001b[0;34m:\u001b[0m\u001b[0;34m\u001b[0m\u001b[0;34m\u001b[0m\u001b[0m\n\u001b[0m\u001b[1;32m    350\u001b[0m                     \u001b[0;31m# write directly to __stderr__ instead of warning because\u001b[0m\u001b[0;34m\u001b[0m\u001b[0;34m\u001b[0m\u001b[0;34m\u001b[0m\u001b[0m\n\u001b[1;32m    351\u001b[0m                     \u001b[0;31m# if this is happening sys.stderr may be the problem.\u001b[0m\u001b[0;34m\u001b[0m\u001b[0;34m\u001b[0m\u001b[0;34m\u001b[0m\u001b[0m\n",
            "\u001b[0;32m/usr/lib/python3.6/threading.py\u001b[0m in \u001b[0;36mwait\u001b[0;34m(self, timeout)\u001b[0m\n\u001b[1;32m    549\u001b[0m             \u001b[0msignaled\u001b[0m \u001b[0;34m=\u001b[0m \u001b[0mself\u001b[0m\u001b[0;34m.\u001b[0m\u001b[0m_flag\u001b[0m\u001b[0;34m\u001b[0m\u001b[0;34m\u001b[0m\u001b[0m\n\u001b[1;32m    550\u001b[0m             \u001b[0;32mif\u001b[0m \u001b[0;32mnot\u001b[0m \u001b[0msignaled\u001b[0m\u001b[0;34m:\u001b[0m\u001b[0;34m\u001b[0m\u001b[0;34m\u001b[0m\u001b[0m\n\u001b[0;32m--> 551\u001b[0;31m                 \u001b[0msignaled\u001b[0m \u001b[0;34m=\u001b[0m \u001b[0mself\u001b[0m\u001b[0;34m.\u001b[0m\u001b[0m_cond\u001b[0m\u001b[0;34m.\u001b[0m\u001b[0mwait\u001b[0m\u001b[0;34m(\u001b[0m\u001b[0mtimeout\u001b[0m\u001b[0;34m)\u001b[0m\u001b[0;34m\u001b[0m\u001b[0;34m\u001b[0m\u001b[0m\n\u001b[0m\u001b[1;32m    552\u001b[0m             \u001b[0;32mreturn\u001b[0m \u001b[0msignaled\u001b[0m\u001b[0;34m\u001b[0m\u001b[0;34m\u001b[0m\u001b[0m\n\u001b[1;32m    553\u001b[0m \u001b[0;34m\u001b[0m\u001b[0m\n",
            "\u001b[0;32m/usr/lib/python3.6/threading.py\u001b[0m in \u001b[0;36mwait\u001b[0;34m(self, timeout)\u001b[0m\n\u001b[1;32m    297\u001b[0m             \u001b[0;32melse\u001b[0m\u001b[0;34m:\u001b[0m\u001b[0;34m\u001b[0m\u001b[0;34m\u001b[0m\u001b[0m\n\u001b[1;32m    298\u001b[0m                 \u001b[0;32mif\u001b[0m \u001b[0mtimeout\u001b[0m \u001b[0;34m>\u001b[0m \u001b[0;36m0\u001b[0m\u001b[0;34m:\u001b[0m\u001b[0;34m\u001b[0m\u001b[0;34m\u001b[0m\u001b[0m\n\u001b[0;32m--> 299\u001b[0;31m                     \u001b[0mgotit\u001b[0m \u001b[0;34m=\u001b[0m \u001b[0mwaiter\u001b[0m\u001b[0;34m.\u001b[0m\u001b[0macquire\u001b[0m\u001b[0;34m(\u001b[0m\u001b[0;32mTrue\u001b[0m\u001b[0;34m,\u001b[0m \u001b[0mtimeout\u001b[0m\u001b[0;34m)\u001b[0m\u001b[0;34m\u001b[0m\u001b[0;34m\u001b[0m\u001b[0m\n\u001b[0m\u001b[1;32m    300\u001b[0m                 \u001b[0;32melse\u001b[0m\u001b[0;34m:\u001b[0m\u001b[0;34m\u001b[0m\u001b[0;34m\u001b[0m\u001b[0m\n\u001b[1;32m    301\u001b[0m                     \u001b[0mgotit\u001b[0m \u001b[0;34m=\u001b[0m \u001b[0mwaiter\u001b[0m\u001b[0;34m.\u001b[0m\u001b[0macquire\u001b[0m\u001b[0;34m(\u001b[0m\u001b[0;32mFalse\u001b[0m\u001b[0;34m)\u001b[0m\u001b[0;34m\u001b[0m\u001b[0;34m\u001b[0m\u001b[0m\n",
            "\u001b[0;31mKeyboardInterrupt\u001b[0m: "
          ]
        }
      ]
    },
    {
      "cell_type": "code",
      "metadata": {
        "id": "9Hh5FEtIygFw"
      },
      "source": [
        "from keras.models import Sequential\r\n",
        "from keras.optimizers import Adam\r\n",
        "from keras.layers import Dense\r\n",
        "from keras.layers import Conv2D\r\n",
        "from keras.layers import Flatten\r\n",
        "from keras.layers import Dropout\r\n",
        "from keras.layers import LeakyReLU\r\n",
        "from keras.utils.vis_utils import plot_model\r\n",
        "\r\n",
        "# define the standalone discriminator model\r\n",
        "def define_discriminator(in_shape=(28,28,1)):\r\n",
        "\tmodel = Sequential()\r\n",
        "\tmodel.add(Conv2D(64, (3,3), strides=(2, 2), padding='same', input_shape=in_shape))\r\n",
        "\tmodel.add(LeakyReLU(alpha=0.2))\r\n",
        "\tmodel.add(Dropout(0.4))\r\n",
        "\tmodel.add(Conv2D(64, (3,3), strides=(2, 2), padding='same'))\r\n",
        "\tmodel.add(LeakyReLU(alpha=0.2))\r\n",
        "\tmodel.add(Dropout(0.4))\r\n",
        "\tmodel.add(Flatten())\r\n",
        "\tmodel.add(Dense(1, activation='sigmoid'))\r\n",
        "\t# compile model\r\n",
        "\topt = Adam(lr=0.0002, beta_1=0.5)\r\n",
        "\tmodel.compile(loss='binary_crossentropy', optimizer=opt, metrics=['accuracy'])\r\n",
        "\treturn model\r\n",
        "\r\n",
        "# define model\r\n",
        "model = define_discriminator()\r\n",
        "# summarize the model\r\n",
        "model.summary()\r\n",
        "# plot the model\r\n"
      ],
      "execution_count": null,
      "outputs": []
    },
    {
      "cell_type": "code",
      "metadata": {
        "id": "rRr9Fadaya63",
        "outputId": "f7840a89-c33f-4615-a280-d26fd7dbb39a",
        "colab": {
          "base_uri": "https://localhost:8080/",
          "height": 1000
        }
      },
      "source": [
        "from keras.models import Sequential\r\n",
        "from keras.optimizers import Adam\r\n",
        "from keras.layers import Dense\r\n",
        "from keras.layers import Conv2D\r\n",
        "from keras.layers import Flatten\r\n",
        "from keras.layers import Dropout\r\n",
        "from keras.layers import LeakyReLU\r\n",
        "from keras.utils.vis_utils import plot_model\r\n",
        "\r\n",
        "# define the standalone discriminator model\r\n",
        "def define_discriminator(in_shape=(28,28,1)):\r\n",
        "\tmodel = Sequential()\r\n",
        "\tmodel.add(Conv2D(64, (3,3), strides=(2, 2), padding='same', input_shape=in_shape))\r\n",
        "\tmodel.add(LeakyReLU(alpha=0.2))\r\n",
        "\tmodel.add(Dropout(0.4))\r\n",
        "\tmodel.add(Conv2D(64, (3,3), strides=(2, 2), padding='same'))\r\n",
        "\tmodel.add(LeakyReLU(alpha=0.2))\r\n",
        "\tmodel.add(Dropout(0.4))\r\n",
        "\tmodel.add(Flatten())\r\n",
        "\tmodel.add(Dense(1, activation='sigmoid'))\r\n",
        "\t# compile model\r\n",
        "\topt = Adam(lr=0.0002, beta_1=0.5)\r\n",
        "\tmodel.compile(loss='binary_crossentropy', optimizer=opt, metrics=['accuracy'])\r\n",
        "\treturn model\r\n",
        "\r\n",
        "# define model\r\n",
        "model = define_discriminator()\r\n",
        "# summarize the model\r\n",
        "model.summary()\r\n",
        "# plot the model\r\n",
        "plot_model(model, to_file='discriminator_plot.png', show_shapes=True, show_layer_names=True)"
      ],
      "execution_count": 16,
      "outputs": [
        {
          "output_type": "stream",
          "text": [
            "Model: \"sequential_1\"\n",
            "_________________________________________________________________\n",
            "Layer (type)                 Output Shape              Param #   \n",
            "=================================================================\n",
            "conv2d (Conv2D)              (None, 14, 14, 64)        640       \n",
            "_________________________________________________________________\n",
            "leaky_re_lu (LeakyReLU)      (None, 14, 14, 64)        0         \n",
            "_________________________________________________________________\n",
            "dropout (Dropout)            (None, 14, 14, 64)        0         \n",
            "_________________________________________________________________\n",
            "conv2d_1 (Conv2D)            (None, 7, 7, 64)          36928     \n",
            "_________________________________________________________________\n",
            "leaky_re_lu_1 (LeakyReLU)    (None, 7, 7, 64)          0         \n",
            "_________________________________________________________________\n",
            "dropout_1 (Dropout)          (None, 7, 7, 64)          0         \n",
            "_________________________________________________________________\n",
            "flatten (Flatten)            (None, 3136)              0         \n",
            "_________________________________________________________________\n",
            "dense_2 (Dense)              (None, 1)                 3137      \n",
            "=================================================================\n",
            "Total params: 40,705\n",
            "Trainable params: 40,705\n",
            "Non-trainable params: 0\n",
            "_________________________________________________________________\n"
          ],
          "name": "stdout"
        },
        {
          "output_type": "execute_result",
          "data": {
            "image/png": "[encoded data removed]",
            "text/plain": [
              "<IPython.core.display.Image object>"
            ]
          },
          "metadata": {
            "tags": []
          },
          "execution_count": 16
        }
      ]
    },
    {
      "cell_type": "code",
      "metadata": {
        "id": "cJtF6uW_yrQS"
      },
      "source": [
        "def load_real_samples():\r\n",
        "\t# load mnist dataset\r\n",
        "\t(trainX, _), (_, _) = load_data()\r\n",
        "\t# expand to 3d, e.g. add channels dimension\r\n",
        "\tX = expand_dims(trainX, axis=-1)\r\n",
        "\t# convert from unsigned ints to floats\r\n",
        "\tX = X.astype('float32')\r\n",
        "\t# scale from [0,255] to [0,1]\r\n",
        "\tX = X / 255.0\r\n",
        "\treturn X"
      ],
      "execution_count": 17,
      "outputs": []
    },
    {
      "cell_type": "code",
      "metadata": {
        "id": "Ve7NO-DAyt2j"
      },
      "source": [
        "def generate_fake_samples(n_samples):\r\n",
        "\t# generate uniform random numbers in [0,1]\r\n",
        "\tX = rand(28 * 28 * n_samples)\r\n",
        "\t# reshape into a batch of grayscale images\r\n",
        "\tX = X.reshape((n_samples, 28, 28, 1))\r\n",
        "\t# generate 'fake' class labels (0)\r\n",
        "\ty = zeros((n_samples, 1))\r\n",
        "\treturn X, y"
      ],
      "execution_count": 18,
      "outputs": []
    },
    {
      "cell_type": "code",
      "metadata": {
        "id": "XLa2Wd1Xyv2c"
      },
      "source": [
        "def define_discriminator(in_shape=(28,28,1)):\r\n",
        "\tmodel = Sequential()\r\n",
        "\tmodel.add(Conv2D(64, (3,3), strides=(2, 2), padding='same', input_shape=in_shape))\r\n",
        "\tmodel.add(LeakyReLU(alpha=0.2))\r\n",
        "\tmodel.add(Dropout(0.4))\r\n",
        "\tmodel.add(Conv2D(64, (3,3), strides=(2, 2), padding='same'))\r\n",
        "\tmodel.add(LeakyReLU(alpha=0.2))\r\n",
        "\tmodel.add(Dropout(0.4))\r\n",
        "\tmodel.add(Flatten())\r\n",
        "\tmodel.add(Dense(1, activation='sigmoid'))\r\n",
        "\t# compile model\r\n",
        "\topt = Adam(lr=0.0002, beta_1=0.5)\r\n",
        "\tmodel.compile(loss='binary_crossentropy', optimizer=opt, metrics=['accuracy'])\r\n",
        "\treturn model\r\n",
        "\r\n",
        "# load and prepare mnist training images\r\n",
        "def load_real_samples():\r\n",
        "\t# load mnist dataset\r\n",
        "\t(trainX, _), (_, _) = load_data()\r\n",
        "\t# expand to 3d, e.g. add channels dimension\r\n",
        "\tX = expand_dims(trainX, axis=-1)\r\n",
        "\t# convert from unsigned ints to floats\r\n",
        "\tX = X.astype('float32')\r\n",
        "\t# scale from [0,255] to [0,1]\r\n",
        "\tX = X / 255.0\r\n",
        "\treturn X\r\n",
        "\r\n",
        "# select real samples\r\n",
        "def generate_real_samples(dataset, n_samples):\r\n",
        "\t# choose random instances\r\n",
        "\tix = randint(0, dataset.shape[0], n_samples)\r\n",
        "\t# retrieve selected images\r\n",
        "\tX = dataset[ix]\r\n",
        "\t# generate 'real' class labels (1)\r\n",
        "\ty = ones((n_samples, 1))\r\n",
        "\treturn X, y\r\n",
        "\r\n",
        "# generate n fake samples with class labels\r\n",
        "def generate_fake_samples(n_samples):\r\n",
        "\t# generate uniform random numbers in [0,1]\r\n",
        "\tX = rand(28 * 28 * n_samples)\r\n",
        "\t# reshape into a batch of grayscale images\r\n",
        "\tX = X.reshape((n_samples, 28, 28, 1))\r\n",
        "\t# generate 'fake' class labels (0)\r\n",
        "\ty = zeros((n_samples, 1))\r\n",
        "\treturn X, y\r\n",
        "\r\n",
        "# train the discriminator model\r\n",
        "def train_discriminator(model, dataset, n_iter=100, n_batch=256):\r\n",
        "\thalf_batch = int(n_batch / 2)\r\n",
        "\t# manually enumerate epochs\r\n",
        "\tfor i in range(n_iter):\r\n",
        "\t\t# get randomly selected 'real' samples\r\n",
        "\t\tX_real, y_real = generate_real_samples(dataset, half_batch)\r\n",
        "\t\t# update discriminator on real samples\r\n",
        "\t\t_, real_acc = model.train_on_batch(X_real, y_real)\r\n",
        "\t\t# generate 'fake' examples\r\n",
        "\t\tX_fake, y_fake = generate_fake_samples(half_batch)\r\n",
        "\t\t# update discriminator on fake samples\r\n",
        "\t\t_, fake_acc = model.train_on_batch(X_fake, y_fake)\r\n",
        "\t\t# summarize performance\r\n",
        "\t\tprint('>%d real=%.0f%% fake=%.0f%%' % (i+1, real_acc*100, fake_acc*100))\r\n",
        "\r\n"
      ],
      "execution_count": 21,
      "outputs": []
    },
    {
      "cell_type": "code",
      "metadata": {
        "id": "j2CU1Bccy44s"
      },
      "source": [
        "import random as rand"
      ],
      "execution_count": 23,
      "outputs": []
    },
    {
      "cell_type": "code",
      "metadata": {
        "id": "1aWoWpLGyygy",
        "outputId": "26e69f6f-2924-4a89-8d40-8e5284344460",
        "colab": {
          "base_uri": "https://localhost:8080/",
          "height": 336
        }
      },
      "source": [
        "model = define_discriminator()\r\n",
        "# load image data\r\n",
        "dataset = load_real_samples()\r\n",
        "# fit the model\r\n",
        "train_discriminator(model, dataset)"
      ],
      "execution_count": 24,
      "outputs": [
        {
          "output_type": "error",
          "ename": "TypeError",
          "evalue": "ignored",
          "traceback": [
            "\u001b[0;31m---------------------------------------------------------------------------\u001b[0m",
            "\u001b[0;31mTypeError\u001b[0m                                 Traceback (most recent call last)",
            "\u001b[0;32m<ipython-input-24-30d245e2350d>\u001b[0m in \u001b[0;36m<module>\u001b[0;34m()\u001b[0m\n\u001b[1;32m      3\u001b[0m \u001b[0mdataset\u001b[0m \u001b[0;34m=\u001b[0m \u001b[0mload_real_samples\u001b[0m\u001b[0;34m(\u001b[0m\u001b[0;34m)\u001b[0m\u001b[0;34m\u001b[0m\u001b[0;34m\u001b[0m\u001b[0m\n\u001b[1;32m      4\u001b[0m \u001b[0;31m# fit the model\u001b[0m\u001b[0;34m\u001b[0m\u001b[0;34m\u001b[0m\u001b[0;34m\u001b[0m\u001b[0m\n\u001b[0;32m----> 5\u001b[0;31m \u001b[0mtrain_discriminator\u001b[0m\u001b[0;34m(\u001b[0m\u001b[0mmodel\u001b[0m\u001b[0;34m,\u001b[0m \u001b[0mdataset\u001b[0m\u001b[0;34m)\u001b[0m\u001b[0;34m\u001b[0m\u001b[0;34m\u001b[0m\u001b[0m\n\u001b[0m",
            "\u001b[0;32m<ipython-input-21-adbc1955ec51>\u001b[0m in \u001b[0;36mtrain_discriminator\u001b[0;34m(model, dataset, n_iter, n_batch)\u001b[0m\n\u001b[1;32m     56\u001b[0m                 \u001b[0m_\u001b[0m\u001b[0;34m,\u001b[0m \u001b[0mreal_acc\u001b[0m \u001b[0;34m=\u001b[0m \u001b[0mmodel\u001b[0m\u001b[0;34m.\u001b[0m\u001b[0mtrain_on_batch\u001b[0m\u001b[0;34m(\u001b[0m\u001b[0mX_real\u001b[0m\u001b[0;34m,\u001b[0m \u001b[0my_real\u001b[0m\u001b[0;34m)\u001b[0m\u001b[0;34m\u001b[0m\u001b[0;34m\u001b[0m\u001b[0m\n\u001b[1;32m     57\u001b[0m                 \u001b[0;31m# generate 'fake' examples\u001b[0m\u001b[0;34m\u001b[0m\u001b[0;34m\u001b[0m\u001b[0;34m\u001b[0m\u001b[0m\n\u001b[0;32m---> 58\u001b[0;31m                 \u001b[0mX_fake\u001b[0m\u001b[0;34m,\u001b[0m \u001b[0my_fake\u001b[0m \u001b[0;34m=\u001b[0m \u001b[0mgenerate_fake_samples\u001b[0m\u001b[0;34m(\u001b[0m\u001b[0mhalf_batch\u001b[0m\u001b[0;34m)\u001b[0m\u001b[0;34m\u001b[0m\u001b[0;34m\u001b[0m\u001b[0m\n\u001b[0m\u001b[1;32m     59\u001b[0m                 \u001b[0;31m# update discriminator on fake samples\u001b[0m\u001b[0;34m\u001b[0m\u001b[0;34m\u001b[0m\u001b[0;34m\u001b[0m\u001b[0m\n\u001b[1;32m     60\u001b[0m                 \u001b[0m_\u001b[0m\u001b[0;34m,\u001b[0m \u001b[0mfake_acc\u001b[0m \u001b[0;34m=\u001b[0m \u001b[0mmodel\u001b[0m\u001b[0;34m.\u001b[0m\u001b[0mtrain_on_batch\u001b[0m\u001b[0;34m(\u001b[0m\u001b[0mX_fake\u001b[0m\u001b[0;34m,\u001b[0m \u001b[0my_fake\u001b[0m\u001b[0;34m)\u001b[0m\u001b[0;34m\u001b[0m\u001b[0;34m\u001b[0m\u001b[0m\n",
            "\u001b[0;32m<ipython-input-21-adbc1955ec51>\u001b[0m in \u001b[0;36mgenerate_fake_samples\u001b[0;34m(n_samples)\u001b[0m\n\u001b[1;32m     39\u001b[0m \u001b[0;32mdef\u001b[0m \u001b[0mgenerate_fake_samples\u001b[0m\u001b[0;34m(\u001b[0m\u001b[0mn_samples\u001b[0m\u001b[0;34m)\u001b[0m\u001b[0;34m:\u001b[0m\u001b[0;34m\u001b[0m\u001b[0;34m\u001b[0m\u001b[0m\n\u001b[1;32m     40\u001b[0m         \u001b[0;31m# generate uniform random numbers in [0,1]\u001b[0m\u001b[0;34m\u001b[0m\u001b[0;34m\u001b[0m\u001b[0;34m\u001b[0m\u001b[0m\n\u001b[0;32m---> 41\u001b[0;31m         \u001b[0mX\u001b[0m \u001b[0;34m=\u001b[0m \u001b[0mrand\u001b[0m\u001b[0;34m(\u001b[0m\u001b[0;36m28\u001b[0m \u001b[0;34m*\u001b[0m \u001b[0;36m28\u001b[0m \u001b[0;34m*\u001b[0m \u001b[0mn_samples\u001b[0m\u001b[0;34m)\u001b[0m\u001b[0;34m\u001b[0m\u001b[0;34m\u001b[0m\u001b[0m\n\u001b[0m\u001b[1;32m     42\u001b[0m         \u001b[0;31m# reshape into a batch of grayscale images\u001b[0m\u001b[0;34m\u001b[0m\u001b[0;34m\u001b[0m\u001b[0;34m\u001b[0m\u001b[0m\n\u001b[1;32m     43\u001b[0m         \u001b[0mX\u001b[0m \u001b[0;34m=\u001b[0m \u001b[0mX\u001b[0m\u001b[0;34m.\u001b[0m\u001b[0mreshape\u001b[0m\u001b[0;34m(\u001b[0m\u001b[0;34m(\u001b[0m\u001b[0mn_samples\u001b[0m\u001b[0;34m,\u001b[0m \u001b[0;36m28\u001b[0m\u001b[0;34m,\u001b[0m \u001b[0;36m28\u001b[0m\u001b[0;34m,\u001b[0m \u001b[0;36m1\u001b[0m\u001b[0;34m)\u001b[0m\u001b[0;34m)\u001b[0m\u001b[0;34m\u001b[0m\u001b[0;34m\u001b[0m\u001b[0m\n",
            "\u001b[0;31mTypeError\u001b[0m: 'module' object is not callable"
          ]
        }
      ]
    },
    {
      "cell_type": "code",
      "metadata": {
        "id": "7MpPGHXHJ0TW"
      },
      "source": [
        "### define the generator model here ###\n",
        "### You may fill the blanks of dots ###\n",
        "\n",
        "# def define_generator(latent_dim):\n",
        "# \tmodel = Sequential()\n",
        "### foundation for 7x7 image\n",
        "# \tn_nodes = ... # num of nodes is 128 * 7 * 7\n",
        "# \tmodel.add(...) # Dense(n_nodes, input_dim=latent_dim)\n",
        "# \tmodel.add(...) # LeakyReLU with alpha=0.2\n",
        "# \tmodel.add(...)  # Reshape((7, 7, 128))\n",
        "### upsample to 14x14\n",
        "# \tmodel.add(...) # Conv2DTranspose(128, (4,4), strides=(2,2), padding='same')\n",
        "# \tmodel.add(...) # LeakyReLU with alpha=0.2\n",
        "### upsample to 28x28\n",
        "# \tmodel.add(...) # Conv2DTranspose(128, (4,4), strides=(2,2), padding='same')\n",
        "# \tmodel.add(...) # LeakyReLU with alpha=0.2\n",
        "# \tmodel.add(...) # Conv2D(1, (7,7), activation='sigmoid', padding='same')\n",
        "# \treturn model"
      ],
      "execution_count": 3,
      "outputs": []
    },
    {
      "cell_type": "code",
      "metadata": {
        "id": "9kUGc8dLKC9A"
      },
      "source": [
        "### define the discriminator model here ###\n",
        "### You may fill the blanks of dots ###\n",
        "\n",
        "# def define_discriminator(in_shape=(28,28,1)):\n",
        "# \tmodel = Sequential()\n",
        "# \tmodel.add(...) # Conv2D(64, (3,3), strides=(2, 2), padding='same', input_shape=in_shape)\n",
        "# \tmodel.add(...) # LeakyReLU with alpha=0.2\n",
        "# \tmodel.add(...) # Dropout(0.4)\n",
        "# \tmodel.add(...) # Conv2D(64, (3,3), strides=(2, 2), padding='same')\n",
        "# \tmodel.add(...) # LeakyReLU with alpha=0.2\n",
        "# \tmodel.add(...) # Dropout(0.4)\n",
        "# \tmodel.add(...) # Flatten()\n",
        "# \tmodel.add(...) # Dense(1, activation='sigmoid')\n",
        "### compile model ###\n",
        "# \topt = Adam(...) # lr=0.0002, beta_1=0.5\n",
        "# \tmodel.compile(...) # loss='binary_crossentropy', optimizer=opt, metrics=['accuracy']\n",
        "# \treturn model"
      ],
      "execution_count": 4,
      "outputs": []
    },
    {
      "cell_type": "markdown",
      "metadata": {
        "id": "kttN2CGfM43D"
      },
      "source": [
        "### 1.3 Compile and train the GAN model\n",
        "\n",
        "Compile and train the GAN Model. \n",
        "\n",
        "**Tasks:**\n",
        "1. Compile the GAN Model with **binary_crossentropy** and **Adam optimizer** of **learning rate = 0.0002** and **beta_1 = 0.5**. **(5 Points)**\n",
        "2. Generate fake input batch for the generator. **(5 Points)**\n",
        "3. Train the GAN Model. **(10 Points)**\n",
        "\n",
        "\n",
        "\n",
        "**Hints:**  \n",
        "1. Batch size of the fake input batch should be same as the real images (i.e. 10).\n",
        "2. The label of the fake input should be 0.\n",
        "3. Train the model for 5 epochs.\n",
        "4. The log of the first 10 iterations of the first epoch should be:\n",
        "![image.png](attachment:image.png)"
      ]
    },
    {
      "cell_type": "code",
      "metadata": {
        "id": "xCtPtJr8Ke12"
      },
      "source": [
        "### define the combined generator and discriminator model, for updating the generator ###\n",
        "### You may fill the blanks of dots ###\n",
        "\n",
        "# def define_gan(g_model, d_model):\n",
        "# \t### make weights in the discriminator not trainable\n",
        "# \td_model.trainable = False\n",
        "#\t### connect them\n",
        "# \tmodel = Sequential()\n",
        "# \t### add generator\n",
        "# \tmodel.add(...) # g_model\n",
        "# \t### add the discriminator\n",
        "# \tmodel.add(...) # d_model\n",
        "# \t### compile model\n",
        "# \topt = Adam(...) # lr=0.0002, beta_1=0.5\n",
        "# \tmodel.compile(...) # loss='binary_crossentropy', optimizer=opt\n",
        "# \treturn model\n",
        "\n",
        "\n",
        "# latent_dim = 100\n",
        "\n",
        "# keras.backend.clear_session() # Clear cached model\n",
        "### create the discriminator ###\n",
        "# d_model = define_discriminator()\n",
        "### create the generator ###\n",
        "# g_model = define_generator(latent_dim)\n",
        "### create the gan ###\n",
        "# gan_model = define_gan(..., ...) # the first should be generator, and the second is discriminator\n",
        "# print(d_model.summary())\n",
        "# print(g_model.summary())\n",
        "# print(gan_model.summary())"
      ],
      "execution_count": 5,
      "outputs": []
    },
    {
      "cell_type": "code",
      "metadata": {
        "id": "pCiTU3eulsoG"
      },
      "source": [
        "### 3. define load_fake_batch() here ###\n",
        "### You may fill the blanks of dots ###\n",
        "\n",
        "# def generate_latent_points(latent_dim, n_samples):\n",
        "# \t### generate points in the latent space\n",
        "# \tx_input = randn(...) # set random samples with latent_dim * n_samples\n",
        "# \t### reshape into a batch of inputs for the network\n",
        "# \tx_input = x_input.reshape(..., ...) # the final shape should be (n_samples, latent_dim)\n",
        "# \treturn x_input\n",
        "\n",
        "# use the generator to generate n fake examples, with class labels\n",
        "# def generate_fake_samples(g_model, latent_dim, n_samples):\n",
        "# \t### generate points in latent space\n",
        "# \tx_input = generate_latent_points(..., ...) # latent_dim, n_samples\n",
        "# \t### predict outputs\n",
        "# \tX = g_model.predict(x_input)\n",
        "# \t### create 'fake' class labels (0)\n",
        "# \ty = zeros((n_samples, 1))\n",
        "# \treturn X, y\n"
      ],
      "execution_count": 6,
      "outputs": []
    },
    {
      "cell_type": "code",
      "metadata": {
        "id": "qILiVn-BM8Yy"
      },
      "source": [
        "### train the generator and discriminator ###\n",
        "### You may fill the blanks of dots ###\n",
        "\n",
        "# def train(g_model, d_model, gan_model, dataset, latent_dim, n_epochs=5, n_batch=256):\n",
        "# \tbat_per_epo = int(dataset.shape[0] / n_batch)\n",
        "# \thalf_batch = int(n_batch / 2) # divide the batch into halves to mix real and fake examples\n",
        "# \t# manually enumerate epochs\n",
        "# \tfor i in range(n_epochs):\n",
        "# \t\t# enumerate batches over the training set\n",
        "# \t\tfor j in range(bat_per_epo):\n",
        "# \t\t\t# get randomly selected 'real' samples to form one half \n",
        "# \t\t\tX_real, y_real = generate_real_samples(..., ...) # dataset, half_batch\n",
        "# \t\t\t# generate 'fake' examples to form the other half\n",
        "# \t\t\tX_fake, y_fake = generate_fake_samples(..., ..., ...) # g_model, latent_dim, half_batch\n",
        "# \t\t\t# create training set for the discriminator with two halves\n",
        "# \t\t\tX, y = vstack((X_real, X_fake)), vstack((y_real, y_fake))\n",
        "# \t\t\t# update discriminator model weights\n",
        "# \t\t\td_loss, _ = d_model.train_on_batch(..., ...) # X, y\n",
        "# \t\t\t# prepare points in latent space as input for the generator\n",
        "# \t\t\tX_gan = generate_latent_points(..., ...) # latent_dim, n_batch\n",
        "# \t\t\t# create inverted labels for the fake samples\n",
        "# \t\t\ty_gan = ones((n_batch, 1))\n",
        "# \t\t\t# update the generator via the discriminator's error\n",
        "# \t\t\tg_loss = gan_model.train_on_batch(..., ...) # X_gan, y_gan\n",
        "# \t\t\t# summarize loss on this batch\n",
        "# \t\t\tprint('epoch: %d, iter: %d/%d, discriminator loss: %.3f, generator loss: %.3f' % (i+1, j+1, bat_per_epo, d_loss, g_loss))\n",
        "\n",
        "# # load image data\n",
        "# dataset = load_real_samples()\n",
        "# # train model\n",
        "# train(g_model, d_model, gan_model, dataset, latent_dim, n_epochs=5, n_batch=256)"
      ],
      "execution_count": 7,
      "outputs": []
    },
    {
      "cell_type": "markdown",
      "metadata": {
        "id": "Dd2jZl4n0H8m"
      },
      "source": [
        "### 1.4 GAN model evaluation\n",
        "\n",
        "Assess the quality of the trained GAN model. \n",
        "\n",
        "**Tasks:**\n",
        "1. Evaluate the trained discriminator with real images and print out the accuracy on the MNIST data(60000 samples). **(10 Points)**\n",
        "2. Evaluate the trained discriminator with 100 fake samples and print out the accuracy (100 samples). **(10 Points)**\n",
        "3. Plot the 5 * 5 = 25 outputs of the trained generator - 5 epochs. **(10 Points)**\n",
        "\n",
        "**Hints:**\n",
        "1. Training GANs can run into large uncertainty when GPU backend is not set to deterministic mode. Thus, the obtained accuracy for real examples could be 20 ~ 80% while that for fake examples could be 10 ~ 70%. Therefore, don't be surprised when the results vary a lot. \n",
        "2. The output samples could be like, but not exactly same as:\n",
        "![image.png](attachment:image.png)"
      ]
    },
    {
      "cell_type": "code",
      "metadata": {
        "id": "20MvvaRPNigp",
        "outputId": "41c3c6f2-2d9a-465b-ecdd-a0105bac8362",
        "colab": {
          "base_uri": "https://localhost:8080/",
          "height": 195
        }
      },
      "source": [
        "### evaluate the discriminator, plot generated images, save generator model ###\n",
        "### You may fill the blanks of dots ###\n",
        "\n",
        "# def summarize_performance( g_model, d_model, dataset, latent_dim, n_samples=100):\n",
        "# \t### prepare real samples\n",
        "# \tX_real, y_real = generate_real_samples(..., ...) # generate_real_samples(dataset, 60000)\n",
        "# \t### evaluate discriminator on real examples\n",
        "# \t_, acc_real = d_model.evaluate(..., ..., ...) # X_real, y_real, verbose=0\n",
        "# \t### prepare fake examples\n",
        "# \tx_fake, y_fake = generate_fake_samples(..., ..., ...) # g_model, latent_dim, n_samples\n",
        "# \t### evaluate discriminator on fake examples\n",
        "# \t_, acc_fake = d_model.evaluate(..., ..., ...) # x_fake, y_fake, verbose=0\n",
        "# \t### summarize discriminator performance\n",
        "# \tprint('Accuracy of real samples: %.0f%%, Accuracy of fake samples: %.0f%%' % (acc_real*100, acc_fake*100))\n",
        "\n",
        "### set random seed for test data ###\n",
        "import os\n",
        "seed_value = 1\n",
        "os.environ['PYTHONHASHSEED']=str(seed_value)\n",
        "def reset_random_seeds():\n",
        "   tf.random.set_seed(seed_value)\n",
        "   np.random.seed(seed_value)\n",
        "   random.seed(seed_value)\n",
        "reset_random_seeds()\n",
        "\n",
        "\n",
        "summarize_performance(g_model, d_model, dataset, latent_dim)"
      ],
      "execution_count": 8,
      "outputs": [
        {
          "output_type": "error",
          "ename": "NameError",
          "evalue": "ignored",
          "traceback": [
            "\u001b[0;31m---------------------------------------------------------------------------\u001b[0m",
            "\u001b[0;31mNameError\u001b[0m                                 Traceback (most recent call last)",
            "\u001b[0;32m<ipython-input-8-6ae5a3bcfc61>\u001b[0m in \u001b[0;36m<module>\u001b[0;34m()\u001b[0m\n\u001b[1;32m     25\u001b[0m \u001b[0;34m\u001b[0m\u001b[0m\n\u001b[1;32m     26\u001b[0m \u001b[0;34m\u001b[0m\u001b[0m\n\u001b[0;32m---> 27\u001b[0;31m \u001b[0msummarize_performance\u001b[0m\u001b[0;34m(\u001b[0m\u001b[0mg_model\u001b[0m\u001b[0;34m,\u001b[0m \u001b[0md_model\u001b[0m\u001b[0;34m,\u001b[0m \u001b[0mdataset\u001b[0m\u001b[0;34m,\u001b[0m \u001b[0mlatent_dim\u001b[0m\u001b[0;34m)\u001b[0m\u001b[0;34m\u001b[0m\u001b[0;34m\u001b[0m\u001b[0m\n\u001b[0m",
            "\u001b[0;31mNameError\u001b[0m: name 'summarize_performance' is not defined"
          ]
        }
      ]
    },
    {
      "cell_type": "code",
      "metadata": {
        "id": "iDQ2eKuWuQy_"
      },
      "source": [
        "# ### generate points in latent space as input for the generator\n",
        "### You may fill the blanks of dots ###\n",
        "\n",
        "# latent_points = generate_latent_points(..., ...) # 100 (hint:latent_dim), 25 (hint: num of samples)\n",
        "# ### generate images\n",
        "# X = g_model.predict(latent_points)\n",
        "# ### create and save a plot of generated images (reversed grayscale)\n",
        "# def save_plot(examples, n):\n",
        "# \t### plot images\n",
        "# \tfor i in range(n * n):\n",
        "# \t\t### define subplot\n",
        "# \t\tpyplot.subplot(n, n, 1 + i)\n",
        "# \t\t### turn off axis\n",
        "# \t\tpyplot.axis('off')\n",
        "# \t\t### plot raw pixel data\n",
        "# \t\tpyplot.imshow(examples[i, :, :, 0], cmap='gray_r')\n",
        "# \tpyplot.show()\n",
        " \n",
        "# save_plot(X, 5)"
      ],
      "execution_count": null,
      "outputs": []
    },
    {
      "cell_type": "markdown",
      "metadata": {
        "id": "0vqvy2tdEw7J"
      },
      "source": [
        "### 1.5 - Plot the generated samples ##\n",
        "\n",
        "**Tasks:**\n",
        "1. Train the GAN model for more epochs, i.e.,**10 epochs** and check the performance on the model. **(10 bonus Points)**\n",
        "2. Plot the 5 * 5 = 25 outputs of the trained generator - 10 epochs. **(5 bonus Points)**\n",
        "\n",
        "**Hints:**\n",
        "1. The output samples could be like, but not exactly same as:\n",
        "![image.png](attachment:image.png)\n"
      ]
    },
    {
      "cell_type": "code",
      "metadata": {
        "id": "pWnH3BVMKAH4"
      },
      "source": [
        "### train with n_epochs=10, n_batch=256\n",
        "### You may fill the blanks of dots ###\n",
        "\n",
        "# keras.backend.clear_session() # Clear cached model\n",
        "### create the discriminator ###\n",
        "# d_model = define_discriminator()\n",
        "### create the generator ###\n",
        "# g_model = define_generator(latent_dim)\n",
        "### create the gan ###\n",
        "# gan_model = define_gan(..., ...) # g_model, d_model\n",
        "# train(g_model, d_model, gan_model, dataset, latent_dim, n_epochs=10, n_batch=256)\n",
        "# summarize_performance(g_model, d_model, dataset, latent_dim)\n",
        "\n",
        "# ### generate points in latent space as input for the generator\n",
        "# latent_points = generate_latent_points(..., ...) # 100 (hint:latent_dim), 25 (hint: num of samples)\n",
        "# ### generate images\n",
        "# X = g_model.predict(latent_points)\n",
        "# ### create and save a plot of generated images (reversed grayscale)\n",
        "# def save_plot(examples, n):\n",
        "# \t### plot images\n",
        "# \tfor i in range(n * n):\n",
        "# \t\t### define subplot\n",
        "# \t\tpyplot.subplot(n, n, 1 + i)\n",
        "# \t\t### turn off axis\n",
        "# \t\tpyplot.axis('off')\n",
        "# \t\t### plot raw pixel data\n",
        "# \t\tpyplot.imshow(examples[i, :, :, 0], cmap='gray_r')\n",
        "# \tpyplot.show()\n",
        " \n",
        "# save_plot(X, 5)\n"
      ],
      "execution_count": null,
      "outputs": []
    }
  ]
}